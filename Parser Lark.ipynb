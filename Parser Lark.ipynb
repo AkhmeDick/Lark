{
  "nbformat": 4,
  "nbformat_minor": 0,
  "metadata": {
    "colab": {
      "provenance": []
    },
    "kernelspec": {
      "name": "python3",
      "display_name": "Python 3"
    },
    "language_info": {
      "name": "python"
    }
  },
  "cells": [
    {
      "cell_type": "markdown",
      "source": [
        "Устанавливаем Lark"
      ],
      "metadata": {
        "id": "ABsPYdzP_Bdp"
      }
    },
    {
      "cell_type": "code",
      "source": [
        "pip install lark"
      ],
      "metadata": {
        "colab": {
          "base_uri": "https://localhost:8080/"
        },
        "id": "PZV6Ai2eZacZ",
        "outputId": "30307261-2067-437b-e381-fc558ccab1ce"
      },
      "execution_count": 1,
      "outputs": [
        {
          "output_type": "stream",
          "name": "stdout",
          "text": [
            "Looking in indexes: https://pypi.org/simple, https://us-python.pkg.dev/colab-wheels/public/simple/\n",
            "Collecting lark\n",
            "  Downloading lark-1.1.5-py3-none-any.whl (107 kB)\n",
            "\u001b[2K     \u001b[90m━━━━━━━━━━━━━━━━━━━━━━━━━━━━━━━━━━━━━━━\u001b[0m \u001b[32m108.0/108.0 kB\u001b[0m \u001b[31m3.7 MB/s\u001b[0m eta \u001b[36m0:00:00\u001b[0m\n",
            "\u001b[?25hInstalling collected packages: lark\n",
            "Successfully installed lark-1.1.5\n"
          ]
        }
      ]
    },
    {
      "cell_type": "code",
      "source": [
        "from lark import Lark\n",
        "import xml.etree.ElementTree as ET\n",
        "import lark\n"
      ],
      "metadata": {
        "id": "40Po2iHHpMnj"
      },
      "execution_count": 2,
      "outputs": []
    },
    {
      "cell_type": "markdown",
      "source": [
        "Ниже парсер Ларк, который работает принимая 1 строчку и выдает дерево по словарному входу.\n",
        "parser - это грамматика, которую я прописал."
      ],
      "metadata": {
        "id": "-MwxcdG2-Lsw"
      }
    },
    {
      "cell_type": "code",
      "source": [
        "parser = Lark(r\"\"\"\n",
        "        ?start: entry\n",
        "        entry: form gramgrp? (hom|sense)* cit?\n",
        "\n",
        "        form: orth orth_n2?\n",
        "        orth: _B HEADWORD HWNUMBER? \",\"? _B? | _B HEADWORD \"//\" HEADWORD _B\n",
        "        orth_n2: (_B \"[\" EXT \"]\" \",\"? _B)\n",
        "        gramgrp: _B? \"[\" gen \";\" number \"]\" \",\"* tns \";\" gram*| \"[<b>мн.</b>\" number \"],\" tns \";\" gen \";\" gram*\n",
        "                | tns \";\" gen \";\" gram* | case \";\" number \";\" |number? |_B? \"[\" gen \";\" number \"],\" tns \";\"\n",
        "        case.1: [_B|\",\"] CASE_NOUN _B // генитив, эргатив\n",
        "        gen: GRAM _B | _B _I GRAM _I _B // муж, жен, III (не меняется по родам)\n",
        "        number: _B GRAM | \",\"? GRAM _B | (_B|GRAM)+ | \",\" CASE_NOUN | _B GRAM _B\n",
        "        tns: \",\"? _B* CASE_NOUN _B\n",
        "        hom: pos* (_DIGIT \".\") pos* (case \";\" number \";\")* lbl* def* extent* xr* \".\"?\n",
        "        sense: pos* (_DIGIT \")\")* (lbl* def extent* xr* | xr| lbl* usg def extent) \".\"?\n",
        "        gram.1: _I GRAMVERB _I\n",
        "        lbl: (_I WORD _I)+\n",
        "        usg: _B EXT _B\n",
        "        def: WORD (_I WORD _I WORD)?\n",
        "        extent: _B EXT _B (_I WORD _I)? WORD\n",
        "        xr.1: _I WORD _I _B EXT _B\n",
        "        cit: \"♦\" extent* lbl* def*\n",
        "        pos.1: _I PARTS0FSPEECH _I\n",
        "        PARTS0FSPEECH: \"союз\" | \"нареч.\" | \"масд.\" | \"частица\" | \"числ.\" | \"предлог\" | \"в знач. сущ.\" | \"межд.\"\n",
        "        HEADWORD: /[\\/А-Я-IΙ()◌́]+/\n",
        "        HWNUMBER: /[0-9]+/\n",
        "        GRAM: /[-а-яIΙ~\\.\\s\\/()\\,]+/\n",
        "        WORD: /[–\\/А-Яа-яё()\\s,-\\.;!?:«»◌́]+/\n",
        "        EXT: /[–\\/А-Яа-яёIΙ()~\\s,-;!?\\.«»◌́]+/\n",
        "        _DIGIT: /[0-9]+/\n",
        "        CASE_NOUN: /[-а-я\\s\\/\\,()]+/\n",
        "        GRAMVERB: \"сов.\" | \"несов.\"\n",
        "        _B: \"<b>\"|\"</b>\"\n",
        "        _I: \"<i>\"|\"</i>\"\n",
        "\n",
        "        // -------- Importing basic data types and ignoring whitespaces --------\n",
        "        %import common.WS\n",
        "        %ignore WS\n",
        "\n",
        "    \"\"\", parser=\"earley\")\n",
        "\n"
      ],
      "metadata": {
        "id": "cddFLiFDZc_V"
      },
      "execution_count": 72,
      "outputs": []
    },
    {
      "cell_type": "code",
      "source": [
        "'''\n",
        "  Функция обхода дерева lark\n",
        "'''\n",
        "\n",
        "def convert_to_xml(lark_tree_):\n",
        "  if type(lark_tree_) is lark.lexer.Token:\n",
        "    return lark_tree_.value\n",
        "  root = ET.Element(lark_tree_.__dict__['data'].value) # Объявляем корневой тег\n",
        "  for clave in lark_tree_.__dict__['children']: # Обходим ветви дерева\n",
        "    trs = convert_to_xml(clave) # Рекурсивный вызов функции\n",
        "    if type(trs) is str: # Если тег конечный, добавляем его как текст\n",
        "      root.text = trs\n",
        "    else:\n",
        "      root.append(trs)\n",
        "\n",
        "  return root"
      ],
      "metadata": {
        "id": "VAEHMManBf32"
      },
      "execution_count": 73,
      "outputs": []
    },
    {
      "cell_type": "markdown",
      "source": [
        "Теперь загружаем в ФАЙЛЫ (слева) наш текстовый файл со словарными записями, открываем и парсим его, конвертируем строки в формат тегов xml"
      ],
      "metadata": {
        "id": "MjOQLTc4BraM"
      }
    },
    {
      "cell_type": "code",
      "source": [
        "with open('/content/test.txt', 'r') as rw:\n",
        "  file_dict = rw.readlines()\n",
        "\n",
        "body = ET.Element('body')\n",
        "for row in file_dict:\n",
        "  tree = parser.parse(row.strip()) # Парсим строку\n",
        "  row_xml = convert_to_xml(tree) # Конвертируем строку в  xml\n",
        "  body.append(row_xml) # Добавляем строку в общий xml\n",
        "\n",
        "text = ET.Element('text')\n",
        "text.append(body)"
      ],
      "metadata": {
        "id": "w3HAHGkIpbmw",
        "colab": {
          "base_uri": "https://localhost:8080/",
          "height": 509
        },
        "outputId": "5ad73955-f198-41a3-a8ae-6a0f87e81c65"
      },
      "execution_count": 74,
      "outputs": [
        {
          "output_type": "error",
          "ename": "UnexpectedCharacters",
          "evalue": "ignored",
          "traceback": [
            "\u001b[0;31m---------------------------------------------------------------------------\u001b[0m",
            "\u001b[0;31mUnexpectedCharacters\u001b[0m                      Traceback (most recent call last)",
            "\u001b[0;32m<ipython-input-74-0c1995491328>\u001b[0m in \u001b[0;36m<cell line: 5>\u001b[0;34m()\u001b[0m\n\u001b[1;32m      4\u001b[0m \u001b[0mbody\u001b[0m \u001b[0;34m=\u001b[0m \u001b[0mET\u001b[0m\u001b[0;34m.\u001b[0m\u001b[0mElement\u001b[0m\u001b[0;34m(\u001b[0m\u001b[0;34m'body'\u001b[0m\u001b[0;34m)\u001b[0m\u001b[0;34m\u001b[0m\u001b[0;34m\u001b[0m\u001b[0m\n\u001b[1;32m      5\u001b[0m \u001b[0;32mfor\u001b[0m \u001b[0mrow\u001b[0m \u001b[0;32min\u001b[0m \u001b[0mfile_dict\u001b[0m\u001b[0;34m:\u001b[0m\u001b[0;34m\u001b[0m\u001b[0;34m\u001b[0m\u001b[0m\n\u001b[0;32m----> 6\u001b[0;31m   \u001b[0mtree\u001b[0m \u001b[0;34m=\u001b[0m \u001b[0mparser\u001b[0m\u001b[0;34m.\u001b[0m\u001b[0mparse\u001b[0m\u001b[0;34m(\u001b[0m\u001b[0mrow\u001b[0m\u001b[0;34m.\u001b[0m\u001b[0mstrip\u001b[0m\u001b[0;34m(\u001b[0m\u001b[0;34m)\u001b[0m\u001b[0;34m)\u001b[0m \u001b[0;31m# Парсим строку\u001b[0m\u001b[0;34m\u001b[0m\u001b[0;34m\u001b[0m\u001b[0m\n\u001b[0m\u001b[1;32m      7\u001b[0m   \u001b[0mrow_xml\u001b[0m \u001b[0;34m=\u001b[0m \u001b[0mconvert_to_xml\u001b[0m\u001b[0;34m(\u001b[0m\u001b[0mtree\u001b[0m\u001b[0;34m)\u001b[0m \u001b[0;31m# Конвертируем строку в  xml\u001b[0m\u001b[0;34m\u001b[0m\u001b[0;34m\u001b[0m\u001b[0m\n\u001b[1;32m      8\u001b[0m   \u001b[0mbody\u001b[0m\u001b[0;34m.\u001b[0m\u001b[0mappend\u001b[0m\u001b[0;34m(\u001b[0m\u001b[0mrow_xml\u001b[0m\u001b[0;34m)\u001b[0m \u001b[0;31m# Добавляем строку в общий xml\u001b[0m\u001b[0;34m\u001b[0m\u001b[0;34m\u001b[0m\u001b[0m\n",
            "\u001b[0;32m/usr/local/lib/python3.10/dist-packages/lark/lark.py\u001b[0m in \u001b[0;36mparse\u001b[0;34m(self, text, start, on_error)\u001b[0m\n\u001b[1;32m    643\u001b[0m \u001b[0;34m\u001b[0m\u001b[0m\n\u001b[1;32m    644\u001b[0m         \"\"\"\n\u001b[0;32m--> 645\u001b[0;31m         \u001b[0;32mreturn\u001b[0m \u001b[0mself\u001b[0m\u001b[0;34m.\u001b[0m\u001b[0mparser\u001b[0m\u001b[0;34m.\u001b[0m\u001b[0mparse\u001b[0m\u001b[0;34m(\u001b[0m\u001b[0mtext\u001b[0m\u001b[0;34m,\u001b[0m \u001b[0mstart\u001b[0m\u001b[0;34m=\u001b[0m\u001b[0mstart\u001b[0m\u001b[0;34m,\u001b[0m \u001b[0mon_error\u001b[0m\u001b[0;34m=\u001b[0m\u001b[0mon_error\u001b[0m\u001b[0;34m)\u001b[0m\u001b[0;34m\u001b[0m\u001b[0;34m\u001b[0m\u001b[0m\n\u001b[0m\u001b[1;32m    646\u001b[0m \u001b[0;34m\u001b[0m\u001b[0m\n\u001b[1;32m    647\u001b[0m \u001b[0;34m\u001b[0m\u001b[0m\n",
            "\u001b[0;32m/usr/local/lib/python3.10/dist-packages/lark/parser_frontends.py\u001b[0m in \u001b[0;36mparse\u001b[0;34m(self, text, start, on_error)\u001b[0m\n\u001b[1;32m     94\u001b[0m         \u001b[0mkw\u001b[0m \u001b[0;34m=\u001b[0m \u001b[0;34m{\u001b[0m\u001b[0;34m}\u001b[0m \u001b[0;32mif\u001b[0m \u001b[0mon_error\u001b[0m \u001b[0;32mis\u001b[0m \u001b[0;32mNone\u001b[0m \u001b[0;32melse\u001b[0m \u001b[0;34m{\u001b[0m\u001b[0;34m'on_error'\u001b[0m\u001b[0;34m:\u001b[0m \u001b[0mon_error\u001b[0m\u001b[0;34m}\u001b[0m\u001b[0;34m\u001b[0m\u001b[0;34m\u001b[0m\u001b[0m\n\u001b[1;32m     95\u001b[0m         \u001b[0mstream\u001b[0m \u001b[0;34m=\u001b[0m \u001b[0mself\u001b[0m\u001b[0;34m.\u001b[0m\u001b[0m_make_lexer_thread\u001b[0m\u001b[0;34m(\u001b[0m\u001b[0mtext\u001b[0m\u001b[0;34m)\u001b[0m\u001b[0;34m\u001b[0m\u001b[0;34m\u001b[0m\u001b[0m\n\u001b[0;32m---> 96\u001b[0;31m         \u001b[0;32mreturn\u001b[0m \u001b[0mself\u001b[0m\u001b[0;34m.\u001b[0m\u001b[0mparser\u001b[0m\u001b[0;34m.\u001b[0m\u001b[0mparse\u001b[0m\u001b[0;34m(\u001b[0m\u001b[0mstream\u001b[0m\u001b[0;34m,\u001b[0m \u001b[0mchosen_start\u001b[0m\u001b[0;34m,\u001b[0m \u001b[0;34m**\u001b[0m\u001b[0mkw\u001b[0m\u001b[0;34m)\u001b[0m\u001b[0;34m\u001b[0m\u001b[0;34m\u001b[0m\u001b[0m\n\u001b[0m\u001b[1;32m     97\u001b[0m \u001b[0;34m\u001b[0m\u001b[0m\n\u001b[1;32m     98\u001b[0m     \u001b[0;32mdef\u001b[0m \u001b[0mparse_interactive\u001b[0m\u001b[0;34m(\u001b[0m\u001b[0mself\u001b[0m\u001b[0;34m,\u001b[0m \u001b[0mtext\u001b[0m\u001b[0;34m=\u001b[0m\u001b[0;32mNone\u001b[0m\u001b[0;34m,\u001b[0m \u001b[0mstart\u001b[0m\u001b[0;34m=\u001b[0m\u001b[0;32mNone\u001b[0m\u001b[0;34m)\u001b[0m\u001b[0;34m:\u001b[0m\u001b[0;34m\u001b[0m\u001b[0;34m\u001b[0m\u001b[0m\n",
            "\u001b[0;32m/usr/local/lib/python3.10/dist-packages/lark/parsers/earley.py\u001b[0m in \u001b[0;36mparse\u001b[0;34m(self, lexer, start)\u001b[0m\n\u001b[1;32m    264\u001b[0m                 \u001b[0mcolumns\u001b[0m\u001b[0;34m[\u001b[0m\u001b[0;36m0\u001b[0m\u001b[0;34m]\u001b[0m\u001b[0;34m.\u001b[0m\u001b[0madd\u001b[0m\u001b[0;34m(\u001b[0m\u001b[0mitem\u001b[0m\u001b[0;34m)\u001b[0m\u001b[0;34m\u001b[0m\u001b[0;34m\u001b[0m\u001b[0m\n\u001b[1;32m    265\u001b[0m \u001b[0;34m\u001b[0m\u001b[0m\n\u001b[0;32m--> 266\u001b[0;31m         \u001b[0mto_scan\u001b[0m \u001b[0;34m=\u001b[0m \u001b[0mself\u001b[0m\u001b[0;34m.\u001b[0m\u001b[0m_parse\u001b[0m\u001b[0;34m(\u001b[0m\u001b[0mlexer\u001b[0m\u001b[0;34m,\u001b[0m \u001b[0mcolumns\u001b[0m\u001b[0;34m,\u001b[0m \u001b[0mto_scan\u001b[0m\u001b[0;34m,\u001b[0m \u001b[0mstart_symbol\u001b[0m\u001b[0;34m)\u001b[0m\u001b[0;34m\u001b[0m\u001b[0;34m\u001b[0m\u001b[0m\n\u001b[0m\u001b[1;32m    267\u001b[0m \u001b[0;34m\u001b[0m\u001b[0m\n\u001b[1;32m    268\u001b[0m         \u001b[0;31m# If the parse was successful, the start\u001b[0m\u001b[0;34m\u001b[0m\u001b[0;34m\u001b[0m\u001b[0m\n",
            "\u001b[0;32m/usr/local/lib/python3.10/dist-packages/lark/parsers/xearley.py\u001b[0m in \u001b[0;36m_parse\u001b[0;34m(self, stream, columns, to_scan, start_symbol)\u001b[0m\n\u001b[1;32m    144\u001b[0m             \u001b[0mself\u001b[0m\u001b[0;34m.\u001b[0m\u001b[0mpredict_and_complete\u001b[0m\u001b[0;34m(\u001b[0m\u001b[0mi\u001b[0m\u001b[0;34m,\u001b[0m \u001b[0mto_scan\u001b[0m\u001b[0;34m,\u001b[0m \u001b[0mcolumns\u001b[0m\u001b[0;34m,\u001b[0m \u001b[0mtransitives\u001b[0m\u001b[0;34m)\u001b[0m\u001b[0;34m\u001b[0m\u001b[0;34m\u001b[0m\u001b[0m\n\u001b[1;32m    145\u001b[0m \u001b[0;34m\u001b[0m\u001b[0m\n\u001b[0;32m--> 146\u001b[0;31m             \u001b[0mto_scan\u001b[0m \u001b[0;34m=\u001b[0m \u001b[0mscan\u001b[0m\u001b[0;34m(\u001b[0m\u001b[0mi\u001b[0m\u001b[0;34m,\u001b[0m \u001b[0mto_scan\u001b[0m\u001b[0;34m)\u001b[0m\u001b[0;34m\u001b[0m\u001b[0;34m\u001b[0m\u001b[0m\n\u001b[0m\u001b[1;32m    147\u001b[0m \u001b[0;34m\u001b[0m\u001b[0m\n\u001b[1;32m    148\u001b[0m             \u001b[0;32mif\u001b[0m \u001b[0mtoken\u001b[0m \u001b[0;34m==\u001b[0m \u001b[0;34m'\\n'\u001b[0m\u001b[0;34m:\u001b[0m\u001b[0;34m\u001b[0m\u001b[0;34m\u001b[0m\u001b[0m\n",
            "\u001b[0;32m/usr/local/lib/python3.10/dist-packages/lark/parsers/xearley.py\u001b[0m in \u001b[0;36mscan\u001b[0;34m(i, to_scan)\u001b[0m\n\u001b[1;32m    117\u001b[0m             \u001b[0;32mif\u001b[0m \u001b[0;32mnot\u001b[0m \u001b[0mnext_set\u001b[0m \u001b[0;32mand\u001b[0m \u001b[0;32mnot\u001b[0m \u001b[0mdelayed_matches\u001b[0m \u001b[0;32mand\u001b[0m \u001b[0;32mnot\u001b[0m \u001b[0mnext_to_scan\u001b[0m\u001b[0;34m:\u001b[0m\u001b[0;34m\u001b[0m\u001b[0;34m\u001b[0m\u001b[0m\n\u001b[1;32m    118\u001b[0m                 \u001b[0mconsidered_rules\u001b[0m \u001b[0;34m=\u001b[0m \u001b[0mlist\u001b[0m\u001b[0;34m(\u001b[0m\u001b[0msorted\u001b[0m\u001b[0;34m(\u001b[0m\u001b[0mto_scan\u001b[0m\u001b[0;34m,\u001b[0m \u001b[0mkey\u001b[0m\u001b[0;34m=\u001b[0m\u001b[0;32mlambda\u001b[0m \u001b[0mkey\u001b[0m\u001b[0;34m:\u001b[0m \u001b[0mkey\u001b[0m\u001b[0;34m.\u001b[0m\u001b[0mrule\u001b[0m\u001b[0;34m.\u001b[0m\u001b[0morigin\u001b[0m\u001b[0;34m.\u001b[0m\u001b[0mname\u001b[0m\u001b[0;34m)\u001b[0m\u001b[0;34m)\u001b[0m\u001b[0;34m\u001b[0m\u001b[0;34m\u001b[0m\u001b[0m\n\u001b[0;32m--> 119\u001b[0;31m                 raise UnexpectedCharacters(stream, i, text_line, text_column, {item.expect.name for item in to_scan},\n\u001b[0m\u001b[1;32m    120\u001b[0m                                            \u001b[0mset\u001b[0m\u001b[0;34m(\u001b[0m\u001b[0mto_scan\u001b[0m\u001b[0;34m)\u001b[0m\u001b[0;34m,\u001b[0m \u001b[0mstate\u001b[0m\u001b[0;34m=\u001b[0m\u001b[0mfrozenset\u001b[0m\u001b[0;34m(\u001b[0m\u001b[0mi\u001b[0m\u001b[0;34m.\u001b[0m\u001b[0ms\u001b[0m \u001b[0;32mfor\u001b[0m \u001b[0mi\u001b[0m \u001b[0;32min\u001b[0m \u001b[0mto_scan\u001b[0m\u001b[0;34m)\u001b[0m\u001b[0;34m,\u001b[0m\u001b[0;34m\u001b[0m\u001b[0;34m\u001b[0m\u001b[0m\n\u001b[1;32m    121\u001b[0m                                            \u001b[0mconsidered_rules\u001b[0m\u001b[0;34m=\u001b[0m\u001b[0mconsidered_rules\u001b[0m\u001b[0;34m\u001b[0m\u001b[0;34m\u001b[0m\u001b[0m\n",
            "\u001b[0;31mUnexpectedCharacters\u001b[0m: No terminal matches '﻿' in the current parser context, at line 1 col 1\n\n﻿<b>А1, -ли, -ла</b>;<b>ед.</b>и<b>мн.</\n^\nExpected one of: \n\t* _B\n"
          ]
        }
      ]
    },
    {
      "cell_type": "code",
      "source": [
        "ET.indent(text, space = '    ')"
      ],
      "metadata": {
        "id": "HIT6h6RuNT3S",
        "colab": {
          "base_uri": "https://localhost:8080/",
          "height": 177
        },
        "outputId": "78ec6332-8ef3-4d0e-ac2d-57d3ecbeffa2"
      },
      "execution_count": 31,
      "outputs": [
        {
          "output_type": "error",
          "ename": "NameError",
          "evalue": "ignored",
          "traceback": [
            "\u001b[0;31m---------------------------------------------------------------------------\u001b[0m",
            "\u001b[0;31mNameError\u001b[0m                                 Traceback (most recent call last)",
            "\u001b[0;32m<ipython-input-31-19caa6f0a013>\u001b[0m in \u001b[0;36m<cell line: 1>\u001b[0;34m()\u001b[0m\n\u001b[0;32m----> 1\u001b[0;31m \u001b[0mET\u001b[0m\u001b[0;34m.\u001b[0m\u001b[0mindent\u001b[0m\u001b[0;34m(\u001b[0m\u001b[0mtext\u001b[0m\u001b[0;34m,\u001b[0m \u001b[0mspace\u001b[0m \u001b[0;34m=\u001b[0m \u001b[0;34m'    '\u001b[0m\u001b[0;34m)\u001b[0m\u001b[0;34m\u001b[0m\u001b[0;34m\u001b[0m\u001b[0m\n\u001b[0m",
            "\u001b[0;31mNameError\u001b[0m: name 'text' is not defined"
          ]
        }
      ]
    },
    {
      "cell_type": "code",
      "source": [
        "ET.dump(text)"
      ],
      "metadata": {
        "id": "-offxTjLNpmG"
      },
      "execution_count": null,
      "outputs": []
    },
    {
      "cell_type": "code",
      "source": [
        "teiHeader = '''\n",
        "<TEI>\n",
        "    <teiHeader>\n",
        "        <fileDesc>\n",
        "            <titleStmt>\n",
        "                <title>Даргинско-русский словарь</title>\n",
        "            </titleStmt>\n",
        "            <publicationStmt>\n",
        "                <p>Школа лингвистики НИУ ВШЭ</p>\n",
        "            </publicationStmt>\n",
        "            <sourceDesc>\n",
        "                <p>Создан из словаря в формате DOC</p>\n",
        "            </sourceDesc>\n",
        "        </fileDesc>\n",
        "    </teiHeader>\n",
        "</TEI>\n",
        "'''"
      ],
      "metadata": {
        "id": "DMy_mcTtJhXb"
      },
      "execution_count": null,
      "outputs": []
    },
    {
      "cell_type": "code",
      "source": [
        "TEI = ET.fromstringlist(teiHeader)"
      ],
      "metadata": {
        "id": "zIndJRH0KZPc"
      },
      "execution_count": null,
      "outputs": []
    },
    {
      "cell_type": "code",
      "source": [
        "TEI.append(text)"
      ],
      "metadata": {
        "id": "0qMiBX-6LhJA"
      },
      "execution_count": null,
      "outputs": []
    },
    {
      "cell_type": "code",
      "source": [
        "ET.dump(TEI)"
      ],
      "metadata": {
        "id": "Gjqa_swzOQuH"
      },
      "execution_count": null,
      "outputs": []
    },
    {
      "cell_type": "code",
      "source": [
        "dict_xml_darg = ET.tostring(TEI, encoding=\"utf-8\", method=\"xml\").decode(encoding=\"utf-8\") # Переводим формат (ET.element - сродни формату BeatifoulSoup) в str"
      ],
      "metadata": {
        "id": "bCwA7anGLpTR"
      },
      "execution_count": null,
      "outputs": []
    },
    {
      "cell_type": "code",
      "source": [
        "# Сохраняем в xml-файл\n",
        "fp = open('dictDarg.xml', 'w')\n",
        "fp.write(dict_xml_darg)\n",
        "fp.close()"
      ],
      "metadata": {
        "id": "0R1YnN7ECjBt"
      },
      "execution_count": null,
      "outputs": []
    }
  ]
}