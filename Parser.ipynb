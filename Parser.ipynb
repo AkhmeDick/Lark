{
  "nbformat": 4,
  "nbformat_minor": 0,
  "metadata": {
    "colab": {
      "provenance": []
    },
    "kernelspec": {
      "name": "python3",
      "display_name": "Python 3"
    },
    "language_info": {
      "name": "python"
    }
  },
  "cells": [
    {
      "cell_type": "markdown",
      "source": [
        "Устанавливаем Lark"
      ],
      "metadata": {
        "id": "ABsPYdzP_Bdp"
      }
    },
    {
      "cell_type": "code",
      "source": [
        "pip install lark"
      ],
      "metadata": {
        "colab": {
          "base_uri": "https://localhost:8080/"
        },
        "id": "PZV6Ai2eZacZ",
        "outputId": "21cc9250-e0fd-4ba5-a203-8cfaefecf6fd"
      },
      "execution_count": null,
      "outputs": [
        {
          "output_type": "stream",
          "name": "stdout",
          "text": [
            "Looking in indexes: https://pypi.org/simple, https://us-python.pkg.dev/colab-wheels/public/simple/\n",
            "Collecting lark\n",
            "  Downloading lark-1.1.5-py3-none-any.whl (107 kB)\n",
            "\u001b[?25l     \u001b[90m━━━━━━━━━━━━━━━━━━━━━━━━━━━━━━━━━━━━━━━━\u001b[0m \u001b[32m0.0/108.0 kB\u001b[0m \u001b[31m?\u001b[0m eta \u001b[36m-:--:--\u001b[0m\r\u001b[2K     \u001b[90m━━━━━━━━━━━━━━━━━━━━━━━━━━━━━━━━━━━━━━━\u001b[0m \u001b[32m108.0/108.0 kB\u001b[0m \u001b[31m3.6 MB/s\u001b[0m eta \u001b[36m0:00:00\u001b[0m\n",
            "\u001b[?25hInstalling collected packages: lark\n",
            "Successfully installed lark-1.1.5\n"
          ]
        }
      ]
    },
    {
      "cell_type": "code",
      "source": [
        "from lark import Lark\n",
        "import xml.etree.ElementTree as ET\n",
        "import lark\n"
      ],
      "metadata": {
        "id": "40Po2iHHpMnj"
      },
      "execution_count": null,
      "outputs": []
    },
    {
      "cell_type": "markdown",
      "source": [
        "Ниже парсер Ларк, который работает принимая 1 строчку и выдает дерево по словарному входу.\n",
        "parser - это грамматика, которую я прописал."
      ],
      "metadata": {
        "id": "-MwxcdG2-Lsw"
      }
    },
    {
      "cell_type": "code",
      "source": [
        "\n",
        "\n",
        "parser = Lark(r\"\"\"\n",
        "        start: entry\n",
        "        entry: form gramgrp? sense?\n",
        "        form: orth \n",
        "        orth: HEADWORD \",\"*\n",
        "\n",
        "        gramgrp: (\"[\" gen \";\" number \"],\") tns \";\"\n",
        "                    | (\"[\" number \"],\") tns \";\" gen \";\"\n",
        "                    | case \";\" number \";\"\n",
        "        case: CASE_NOUN\n",
        "        gen: GRAM\n",
        "        number: GRAM\n",
        "        tns: GRAM\n",
        "\n",
        "        sense: lbl? (def extent)* cit*\n",
        "        lbl: LABEL\n",
        "        def: WORD+ [\";\"]+ \";\"\n",
        "        extent: EXT+ \";\"*\n",
        "        LABEL: \"несов.\" | \"сов.\"\n",
        "        cit: \"♦\" EXT+\n",
        "\n",
        "        HEADWORD: /[0-9\\/А-Я-IΙ]+/\n",
        "        GRAM: /[-а-яIΙ~\\.\\s\\/()\\,]+/\n",
        "        WORD: /[0-9\\/А-Яа-яё()\\s,-\\.]+/\n",
        "        EXT: /[\\/А-Яа-яёIΙ()~\\s,-;!\\.«»]+/\n",
        "        CASE_NOUN: /[-а-я\\.\\s\\/\\,]+/\n",
        "\n",
        "        // -------- Importing basic data types and ignoring whitespaces --------\n",
        "        %import common.WS\n",
        "        %ignore WS\n",
        "    \"\"\", parser=\"earley\")\n",
        "\n"
      ],
      "metadata": {
        "id": "cddFLiFDZc_V"
      },
      "execution_count": 41,
      "outputs": []
    },
    {
      "cell_type": "code",
      "source": [
        "'''\n",
        "  Функция обхода дерева lark\n",
        "'''\n",
        "\n",
        "def convert_to_xml(lark_tree_):\n",
        "  if type(lark_tree_) is lark.lexer.Token:\n",
        "    return lark_tree_.value\n",
        "  root = ET.Element(lark_tree_.__dict__['data'].value) # Объявляем корневой тег\n",
        "  for clave in lark_tree_.__dict__['children']: # Обходим ветви дерева\n",
        "    trs = convert_to_xml(clave) # Рекурсивный вызов функции\n",
        "    if type(trs) is str: # Если тег конечный, добавляем его как текст\n",
        "      root.text = trs\n",
        "    else:\n",
        "      root.append(trs)\n",
        "\n",
        "  return root"
      ],
      "metadata": {
        "id": "VAEHMManBf32"
      },
      "execution_count": 42,
      "outputs": []
    },
    {
      "cell_type": "markdown",
      "source": [
        "Теперь загружаем в ФАЙЛЫ (слева) наш текстовый файл со словарными записями, открываем и парсим его, конвертируем строки в формат тегов xml"
      ],
      "metadata": {
        "id": "MjOQLTc4BraM"
      }
    },
    {
      "cell_type": "code",
      "source": [
        "with open('/content/test2.txt', 'r') as rw:\n",
        "  file_dict = rw.readlines()\n",
        "\n",
        "body = ET.Element('body')\n",
        "for row in file_dict:\n",
        "  tree = parser.parse(row.strip()) # Парсим строку\n",
        "  row_xml = convert_to_xml(tree) # Конвертируем строку в  xml\n",
        "  body.append(row_xml) # Добавляем строку в общий xml\n",
        "  \n",
        "text = ET.Element('text')\n",
        "text.append(body)"
      ],
      "metadata": {
        "id": "w3HAHGkIpbmw"
      },
      "execution_count": 43,
      "outputs": []
    },
    {
      "cell_type": "code",
      "source": [
        "ET.indent(text, space = '    ')"
      ],
      "metadata": {
        "id": "HIT6h6RuNT3S"
      },
      "execution_count": 44,
      "outputs": []
    },
    {
      "cell_type": "code",
      "source": [
        "ET.dump(text)"
      ],
      "metadata": {
        "id": "-offxTjLNpmG",
        "colab": {
          "base_uri": "https://localhost:8080/"
        },
        "outputId": "edcb4f13-43a2-431b-ae1e-1cbe4b3185a1"
      },
      "execution_count": 45,
      "outputs": [
        {
          "output_type": "stream",
          "name": "stdout",
          "text": [
            "<text>\n",
            "    <body>\n",
            "        <start>\n",
            "            <entry>\n",
            "                <form>\n",
            "                    <orth>АБДАЛГЯГI</orth>\n",
            "                </form>\n",
            "                <gramgrp>\n",
            "                    <case>-ли, -ла</case>\n",
            "                    <number>-яни</number>\n",
            "                </gramgrp>\n",
            "                <sense>\n",
            "                    <def>1) психопат, тронутый (прост.), юродивый</def>\n",
            "                    <extent> 2) простак, простофиля; дураковатый, дурашливый, придурковатый; ~ сайри хIу, ахмах! простофиля ты, дурачина!</extent>\n",
            "                </sense>\n",
            "            </entry>\n",
            "        </start>\n",
            "        <start>\n",
            "            <entry>\n",
            "                <form>\n",
            "                    <orth>АБЗ/БИКI-ЕС</orth>\n",
            "                </form>\n",
            "                <gramgrp>\n",
            "                    <gen>~икΙ-ес, ~рикΙ-ес</gen>\n",
            "                    <number> ~дикΙ-ес</number>\n",
            "                    <tns>-ар, -ули, -уси, -ен(-ена/я)</tns>\n",
            "                </gramgrp>\n",
            "                <sense>\n",
            "                    <lbl>несов.</lbl>\n",
            "                    <def>1) соревноваться, состязаться</def>\n",
            "                    <extent>куртIлизиб ~ состязаться по плаванию; къяйкикIнилизив ~икΙес соревноваться в стрельбе; 2) соперничать, конкурировать; тягаться; багьудлумазиб иличил бахъал ~ хIебирар немногие могут соперничать с ним в знаниях.</extent>\n",
            "                </sense>\n",
            "            </entry>\n",
            "        </start>\n",
            "        <start>\n",
            "            <entry>\n",
            "                <form>\n",
            "                    <orth>АБЗУР/БИР-ЕС</orth>\n",
            "                </form>\n",
            "                <gramgrp>\n",
            "                    <number>мн. ~дир-ес</number>\n",
            "                    <tns>-у(-ар), -ули, -уси, -ен(-ена/я)</tns>\n",
            "                    <gen>ΙΙΙ</gen>\n",
            "                </gramgrp>\n",
            "                <sense>\n",
            "                    <lbl>несов.</lbl>\n",
            "                    <def> 1) делать (становиться) цельным, целостным</def>\n",
            "                    <extent> 2) оканчивать(ся), кончать(ся), довершать(ся), завершать(ся); округляться; хΙянчи ~ули саби работа округляется (завершается).</extent>\n",
            "                </sense>\n",
            "            </entry>\n",
            "        </start>\n",
            "        <start>\n",
            "            <entry>\n",
            "                <form>\n",
            "                    <orth>АРХIЯГЪУНА</orth>\n",
            "                </form>\n",
            "                <sense>\n",
            "                    <def> шелковистый</def>\n",
            "                    <extent>~ гъез шелковистый волос.</extent>\n",
            "                </sense>\n",
            "            </entry>\n",
            "        </start>\n",
            "    </body>\n",
            "</text>\n"
          ]
        }
      ]
    },
    {
      "cell_type": "code",
      "source": [
        "teiHeader = '''\n",
        "<TEI>\n",
        "    <teiHeader>\n",
        "        <fileDesc>\n",
        "            <titleStmt>\n",
        "                <title>Даргинско-русский словарь</title>\n",
        "            </titleStmt>\n",
        "            <publicationStmt>\n",
        "                <p>Школа лингвистики НИУ ВШЭ</p>\n",
        "            </publicationStmt>\n",
        "            <sourceDesc>\n",
        "                <p>Создан из словаря в формате DOC</p>\n",
        "            </sourceDesc>\n",
        "        </fileDesc>\n",
        "    </teiHeader>\n",
        "</TEI>\n",
        "'''"
      ],
      "metadata": {
        "id": "DMy_mcTtJhXb"
      },
      "execution_count": 34,
      "outputs": []
    },
    {
      "cell_type": "code",
      "source": [
        "TEI = ET.fromstringlist(teiHeader)"
      ],
      "metadata": {
        "id": "zIndJRH0KZPc"
      },
      "execution_count": 35,
      "outputs": []
    },
    {
      "cell_type": "code",
      "source": [
        "TEI.append(text)"
      ],
      "metadata": {
        "id": "0qMiBX-6LhJA"
      },
      "execution_count": 36,
      "outputs": []
    },
    {
      "cell_type": "code",
      "source": [
        "ET.dump(TEI)"
      ],
      "metadata": {
        "id": "Gjqa_swzOQuH",
        "colab": {
          "base_uri": "https://localhost:8080/"
        },
        "outputId": "d714603c-631f-484e-9d5b-9d04ecefb1d4"
      },
      "execution_count": 37,
      "outputs": [
        {
          "output_type": "stream",
          "name": "stdout",
          "text": [
            "<TEI>\n",
            "    <teiHeader>\n",
            "        <fileDesc>\n",
            "            <titleStmt>\n",
            "                <title>Даргинско-русский словарь</title>\n",
            "            </titleStmt>\n",
            "            <publicationStmt>\n",
            "                <p>Школа лингвистики НИУ ВШЭ</p>\n",
            "            </publicationStmt>\n",
            "            <sourceDesc>\n",
            "                <p>Создан из словаря в формате DOC</p>\n",
            "            </sourceDesc>\n",
            "        </fileDesc>\n",
            "    </teiHeader>\n",
            "<text>\n",
            "    <body>\n",
            "        <start>\n",
            "            <entry>\n",
            "                <form>\n",
            "                    <orth>АБДАЛГЯГI</orth>\n",
            "                </form>\n",
            "                <gramgrp>\n",
            "                    <case>-ли, -ла</case>\n",
            "                    <number>-яни</number>\n",
            "                </gramgrp>\n",
            "                <sense>\n",
            "                    <def>1) психопат, тронутый (прост.), юродивый</def>\n",
            "                    <extent> 2) простак, простофиля; дураковатый, дурашливый, придурковатый; ~ сайри хIу, ахмах! простофиля ты, дурачина!</extent>\n",
            "                </sense>\n",
            "            </entry>\n",
            "        </start>\n",
            "        <start>\n",
            "            <entry>\n",
            "                <form>\n",
            "                    <orth>АБЗ/БИКI-ЕС</orth>\n",
            "                </form>\n",
            "                <gramgrp>\n",
            "                    <gen>~икΙ-ес, ~рикΙ-ес</gen>\n",
            "                    <number> ~дикΙ-ес</number>\n",
            "                    <tns>-ар, -ули, -уси, -ен(-ена/я)</tns>\n",
            "                </gramgrp>\n",
            "                <sense>\n",
            "                    <lbl>несов.</lbl>\n",
            "                    <def>1) соревноваться, состязаться</def>\n",
            "                    <extent>куртIлизиб ~ состязаться по плаванию; къяйкикIнилизив ~икΙес соревноваться в стрельбе; 2) соперничать, конкурировать; тягаться; багьудлумазиб иличил бахъал ~ хIебирар немногие могут соперничать с ним в знаниях.</extent>\n",
            "                </sense>\n",
            "            </entry>\n",
            "        </start>\n",
            "        <start>\n",
            "            <entry>\n",
            "                <form>\n",
            "                    <orth>АБЗУР/БИР-ЕС</orth>\n",
            "                </form>\n",
            "                <gramgrp>\n",
            "                    <number>мн. ~дир-ес</number>\n",
            "                    <tns>-у(-ар), -ули, -уси, -ен(-ена/я)</tns>\n",
            "                    <gen>ΙΙΙ</gen>\n",
            "                </gramgrp>\n",
            "                <sense>\n",
            "                    <lbl>несов.</lbl>\n",
            "                    <def> 1) делать (становиться) цельным, целостным</def>\n",
            "                    <extent> 2) оканчивать(ся), кончать(ся), довершать(ся), завершать(ся); округляться; хΙянчи ~ули саби работа округляется (завершается).</extent>\n",
            "                </sense>\n",
            "            </entry>\n",
            "        </start>\n",
            "        <start>\n",
            "            <entry>\n",
            "                <form>\n",
            "                    <orth>АРХIЯГЪУНА</orth>\n",
            "                </form>\n",
            "                <sense>\n",
            "                    <def> шелковистый</def>\n",
            "                    <extent>~ гъез шелковистый волос.</extent>\n",
            "                </sense>\n",
            "            </entry>\n",
            "        </start>\n",
            "    </body>\n",
            "</text></TEI>\n"
          ]
        }
      ]
    },
    {
      "cell_type": "code",
      "source": [
        "dict_xml_darg = ET.tostring(TEI, encoding=\"utf-8\", method=\"xml\").decode(encoding=\"utf-8\") # Переводим формат (ET.element - сродни формату BeatifoulSoup) в str"
      ],
      "metadata": {
        "id": "bCwA7anGLpTR"
      },
      "execution_count": 38,
      "outputs": []
    },
    {
      "cell_type": "code",
      "source": [
        "# Сохраняем в xml-файл\n",
        "fp = open('dictDarg.xml', 'w')\n",
        "fp.write(dict_xml_darg)\n",
        "fp.close()"
      ],
      "metadata": {
        "id": "0R1YnN7ECjBt"
      },
      "execution_count": 39,
      "outputs": []
    }
  ]
}